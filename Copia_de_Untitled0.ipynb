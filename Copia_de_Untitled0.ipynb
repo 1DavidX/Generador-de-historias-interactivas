{
  "nbformat": 4,
  "nbformat_minor": 0,
  "metadata": {
    "colab": {
      "provenance": [],
      "toc_visible": true,
      "authorship_tag": "ABX9TyPTZvs2o+cMLv3XvEgSkgr4",
      "include_colab_link": true
    },
    "kernelspec": {
      "name": "python3",
      "display_name": "Python 3"
    },
    "language_info": {
      "name": "python"
    }
  },
  "cells": [
    {
      "cell_type": "markdown",
      "metadata": {
        "id": "view-in-github",
        "colab_type": "text"
      },
      "source": [
        "<a href=\"https://colab.research.google.com/github/1DavidX/Generador-de-historias-interactivas/blob/main/Copia_de_Untitled0.ipynb\" target=\"_parent\"><img src=\"https://colab.research.google.com/assets/colab-badge.svg\" alt=\"Open In Colab\"/></a>"
      ]
    },
    {
      "cell_type": "markdown",
      "source": [
        "Generador de historias interactivas\n"
      ],
      "metadata": {
        "id": "SkGLWcC9k0p1"
      }
    },
    {
      "cell_type": "code",
      "execution_count": 9,
      "metadata": {
        "id": "OuthpjKfkt1G",
        "colab": {
          "base_uri": "https://localhost:8080/"
        },
        "outputId": "9062c695-527b-43bc-e37f-b06ae4a46ecb"
      },
      "outputs": [
        {
          "output_type": "stream",
          "name": "stdout",
          "text": [
            "Bienvenido al generador de historias.\n",
            "Ingresa un nuevo personaje:Enano\n",
            "personaje 'Enanoañadido a la lista.\n",
            "Ingresa un nuevo lugar: Una montaña \n",
            "Lugar 'Una montaña ' añadido a la lista.\n",
            "Ingresa una nueva acción: Luchando \n",
            "Acción 'Luchando ' añadida a la lista.\n",
            "\n",
            "En un lugar legano, un dragón exploró en un río mágico.\n"
          ]
        }
      ],
      "source": [
        "import random\n",
        "\n",
        "# Personajes, lugares y acciones\n",
        "personajes = [\"un mago\", \"una princesa\", \"un dragón\", \"un guerrero\"]\n",
        "lugares = [\"un castillo\", \"un bosque encantado\", \"una montaña\", \"un río mágico\"]\n",
        "acciones = [\"salvó\", \"encontró\", \"perdió\", \"exploró\"]\n",
        "\n",
        "\n",
        "#Agregar un nuevo personaje\n",
        "def agregar_personaje():\n",
        "  nuevo_personaje = input(\"Ingresa un nuevo personaje:\")\n",
        "  personajes.append(nuevo_personaje)\n",
        "  print(f\"personaje '{nuevo_personaje}\" 'añadido a la lista.')\n",
        "\n",
        "# Agregar un nuevo lugar\n",
        "def agregar_lugar():\n",
        "    nuevo_lugar = input(\"Ingresa un nuevo lugar: \")\n",
        "    lugares.append(nuevo_lugar)\n",
        "    print(f\"Lugar '{nuevo_lugar}' añadido a la lista.\")\n",
        "\n",
        "# Agregar una nueva acción\n",
        "def agregar_accion():\n",
        "    nueva_accion = input(\"Ingresa una nueva acción: \")\n",
        "    acciones.append(nueva_accion)\n",
        "    print(f\"Acción '{nueva_accion}' añadida a la lista.\")\n",
        "\n",
        "# Generar y mostrar la historia\n",
        "def generar_historia():\n",
        "    personaje = random.choice(personajes)\n",
        "    lugar = random.choice(lugares)\n",
        "    accion = random.choice(acciones)\n",
        "    print(f\"\\nEn un lugar legano, {personaje} {accion} en {lugar}.\")\n",
        "\n",
        "# Funcion\n",
        "print(\"Bienvenido al generador de historias.\")\n",
        "agregar_personaje()\n",
        "agregar_lugar()\n",
        "agregar_accion()\n",
        "generar_historia()\n",
        "\n",
        "\n"
      ]
    },
    {
      "cell_type": "markdown",
      "source": [
        "# Nueva sección"
      ],
      "metadata": {
        "id": "dMUe3fSaLl4t"
      }
    }
  ]
}